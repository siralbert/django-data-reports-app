{
 "cells": [
  {
   "cell_type": "code",
   "execution_count": 1,
   "id": "7751edb9-da2f-445a-8379-13d442afd8ab",
   "metadata": {},
   "outputs": [],
   "source": [
    "import pandas as pd\n",
    "import csv"
   ]
  },
  {
   "cell_type": "code",
   "execution_count": 2,
   "id": "6b02b37c-122e-46b3-8a65-d126d9cf83a6",
   "metadata": {},
   "outputs": [
    {
     "data": {
      "text/html": [
       "<div>\n",
       "<style scoped>\n",
       "    .dataframe tbody tr th:only-of-type {\n",
       "        vertical-align: middle;\n",
       "    }\n",
       "\n",
       "    .dataframe tbody tr th {\n",
       "        vertical-align: top;\n",
       "    }\n",
       "\n",
       "    .dataframe thead th {\n",
       "        text-align: right;\n",
       "    }\n",
       "</style>\n",
       "<table border=\"1\" class=\"dataframe\">\n",
       "  <thead>\n",
       "    <tr style=\"text-align: right;\">\n",
       "      <th></th>\n",
       "      <th>Pos</th>\n",
       "      <th>Transaction id</th>\n",
       "      <th>Product</th>\n",
       "      <th>Quantity</th>\n",
       "      <th>Customer</th>\n",
       "      <th>Date</th>\n",
       "    </tr>\n",
       "  </thead>\n",
       "  <tbody>\n",
       "    <tr>\n",
       "      <th>0</th>\n",
       "      <td>1</td>\n",
       "      <td>E100</td>\n",
       "      <td>Tv</td>\n",
       "      <td>1</td>\n",
       "      <td>Test Customer</td>\n",
       "      <td>2021-03-12</td>\n",
       "    </tr>\n",
       "    <tr>\n",
       "      <th>1</th>\n",
       "      <td>2</td>\n",
       "      <td>E100</td>\n",
       "      <td>Laptop</td>\n",
       "      <td>3</td>\n",
       "      <td>Test Customer</td>\n",
       "      <td>2021-03-12</td>\n",
       "    </tr>\n",
       "    <tr>\n",
       "      <th>2</th>\n",
       "      <td>3</td>\n",
       "      <td>E200</td>\n",
       "      <td>Tv</td>\n",
       "      <td>1</td>\n",
       "      <td>Test Customer</td>\n",
       "      <td>2021-03-13</td>\n",
       "    </tr>\n",
       "    <tr>\n",
       "      <th>3</th>\n",
       "      <td>4</td>\n",
       "      <td>E300</td>\n",
       "      <td>Smartphone</td>\n",
       "      <td>2</td>\n",
       "      <td>New Customer</td>\n",
       "      <td>2021-03-14</td>\n",
       "    </tr>\n",
       "    <tr>\n",
       "      <th>4</th>\n",
       "      <td>5</td>\n",
       "      <td>E300</td>\n",
       "      <td>Laptop</td>\n",
       "      <td>5</td>\n",
       "      <td>New Customer</td>\n",
       "      <td>2021-03-14</td>\n",
       "    </tr>\n",
       "    <tr>\n",
       "      <th>5</th>\n",
       "      <td>6</td>\n",
       "      <td>E300</td>\n",
       "      <td>Tv</td>\n",
       "      <td>1</td>\n",
       "      <td>Test Customer</td>\n",
       "      <td>2021-03-14</td>\n",
       "    </tr>\n",
       "    <tr>\n",
       "      <th>6</th>\n",
       "      <td>7</td>\n",
       "      <td>E400</td>\n",
       "      <td>Tv</td>\n",
       "      <td>2</td>\n",
       "      <td>ABC</td>\n",
       "      <td>2021-03-15</td>\n",
       "    </tr>\n",
       "    <tr>\n",
       "      <th>7</th>\n",
       "      <td>8</td>\n",
       "      <td>E500</td>\n",
       "      <td>Smartphone</td>\n",
       "      <td>4</td>\n",
       "      <td>ABC</td>\n",
       "      <td>2021-03-16</td>\n",
       "    </tr>\n",
       "  </tbody>\n",
       "</table>\n",
       "</div>"
      ],
      "text/plain": [
       "   Pos Transaction id     Product  Quantity       Customer        Date\n",
       "0    1           E100          Tv         1  Test Customer  2021-03-12\n",
       "1    2           E100      Laptop         3  Test Customer  2021-03-12\n",
       "2    3           E200          Tv         1  Test Customer  2021-03-13\n",
       "3    4           E300  Smartphone         2   New Customer  2021-03-14\n",
       "4    5           E300      Laptop         5   New Customer  2021-03-14\n",
       "5    6           E300          Tv         1  Test Customer  2021-03-14\n",
       "6    7           E400          Tv         2            ABC  2021-03-15\n",
       "7    8           E500  Smartphone         4            ABC  2021-03-16"
      ]
     },
     "execution_count": 2,
     "metadata": {},
     "output_type": "execute_result"
    }
   ],
   "source": [
    "csvFile = 'pos_pmAjRQZ.csv'\n",
    "df = pd.read_csv(csvFile)\n",
    "df"
   ]
  },
  {
   "cell_type": "code",
   "execution_count": 4,
   "id": "0dea4def-1e11-48c7-8cae-5f6d260ca620",
   "metadata": {},
   "outputs": [
    {
     "data": {
      "text/plain": [
       "0    1\n",
       "1    2\n",
       "2    3\n",
       "3    4\n",
       "4    5\n",
       "5    6\n",
       "6    7\n",
       "7    8\n",
       "Name: Pos, dtype: int64"
      ]
     },
     "execution_count": 4,
     "metadata": {},
     "output_type": "execute_result"
    }
   ],
   "source": [
    "df.Pos\n"
   ]
  },
  {
   "cell_type": "code",
   "execution_count": null,
   "id": "36a02d81-2c80-4c48-995b-92d8668bcfa4",
   "metadata": {},
   "outputs": [],
   "source": []
  }
 ],
 "metadata": {
  "kernelspec": {
   "display_name": "Python 3 (ipykernel)",
   "language": "python",
   "name": "python3"
  },
  "language_info": {
   "codemirror_mode": {
    "name": "ipython",
    "version": 3
   },
   "file_extension": ".py",
   "mimetype": "text/x-python",
   "name": "python",
   "nbconvert_exporter": "python",
   "pygments_lexer": "ipython3",
   "version": "3.9.6"
  }
 },
 "nbformat": 4,
 "nbformat_minor": 5
}
