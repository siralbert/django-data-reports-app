{
 "cells": [
  {
   "cell_type": "code",
   "execution_count": 1,
   "id": "a4f28e0b-b460-4f2e-9319-a047a274ccfd",
   "metadata": {},
   "outputs": [
    {
     "data": {
      "text/html": [
       "<table border=\"1\" class=\"dataframe\">\n",
       "  <thead>\n",
       "    <tr style=\"text-align: right;\">\n",
       "      <th>Transaction id</th>\n",
       "      <th>Product</th>\n",
       "      <th>Quantity</th>\n",
       "      <th>Customer</th>\n",
       "      <th>Date</th>\n",
       "    </tr>\n",
       "  </thead>\n",
       "  <tbody>\n",
       "    <tr>\n",
       "      <td>E100</td>\n",
       "      <td>Tv</td>\n",
       "      <td>1</td>\n",
       "      <td>Test Customer</td>\n",
       "      <td>2021-03-12</td>\n",
       "    </tr>\n",
       "    <tr>\n",
       "      <td>E100</td>\n",
       "      <td>Laptop</td>\n",
       "      <td>3</td>\n",
       "      <td>Test Customer</td>\n",
       "      <td>2021-03-12</td>\n",
       "    </tr>\n",
       "    <tr>\n",
       "      <td>E200</td>\n",
       "      <td>Tv</td>\n",
       "      <td>1</td>\n",
       "      <td>Test Customer</td>\n",
       "      <td>2021-03-13</td>\n",
       "    </tr>\n",
       "    <tr>\n",
       "      <td>E300</td>\n",
       "      <td>Smartphone</td>\n",
       "      <td>2</td>\n",
       "      <td>New Customer</td>\n",
       "      <td>2021-03-14</td>\n",
       "    </tr>\n",
       "    <tr>\n",
       "      <td>E300</td>\n",
       "      <td>Laptop</td>\n",
       "      <td>5</td>\n",
       "      <td>New Customer</td>\n",
       "      <td>2021-03-14</td>\n",
       "    </tr>\n",
       "    <tr>\n",
       "      <td>E300</td>\n",
       "      <td>Tv</td>\n",
       "      <td>1</td>\n",
       "      <td>Test Customer</td>\n",
       "      <td>2021-03-14</td>\n",
       "    </tr>\n",
       "    <tr>\n",
       "      <td>E400</td>\n",
       "      <td>Tv</td>\n",
       "      <td>2</td>\n",
       "      <td>ABC</td>\n",
       "      <td>2021-03-15</td>\n",
       "    </tr>\n",
       "    <tr>\n",
       "      <td>E500</td>\n",
       "      <td>Smartphone</td>\n",
       "      <td>4</td>\n",
       "      <td>ABC</td>\n",
       "      <td>2021-03-16</td>\n",
       "    </tr>\n",
       "  </tbody>\n",
       "</table>"
      ],
      "text/plain": [
       "<IPython.core.display.HTML object>"
      ]
     },
     "execution_count": 1,
     "metadata": {},
     "output_type": "execute_result"
    }
   ],
   "source": [
    "import pandas as pd\n",
    "posdf = pd.read_csv('./media/csvs/pos.csv')\n",
    "posdf.style.hide(axis='index')\n",
    "\n",
    "from IPython.display import HTML\n",
    "HTML(posdf.to_html(index=False))  # Use in python code"
   ]
  },
  {
   "cell_type": "code",
   "execution_count": 56,
   "id": "5735ca4e-6dbb-4695-bc91-5e77d5229c14",
   "metadata": {},
   "outputs": [
    {
     "data": {
      "text/plain": [
       "array(['Test Customer', 'New Customer', 'ABC'], dtype=object)"
      ]
     },
     "execution_count": 56,
     "metadata": {},
     "output_type": "execute_result"
    }
   ],
   "source": [
    "posdf.Customer.unique()"
   ]
  },
  {
   "cell_type": "code",
   "execution_count": 35,
   "id": "8b9e4408-ba9e-4d22-b722-9574ea7991e2",
   "metadata": {},
   "outputs": [
    {
     "name": "stdout",
     "output_type": "stream",
     "text": [
      "<sqlite3.Connection object at 0x7f76f6ab0e40>\n",
      "<sqlite3.Cursor object at 0x7f76f6af9340>\n",
      "[('django_migrations',), ('sqlite_sequence',), ('auth_group_permissions',), ('auth_user_groups',), ('auth_user_user_permissions',), ('django_admin_log',), ('django_content_type',), ('auth_permission',), ('auth_group',), ('auth_user',), ('customers_customer',), ('products_product',), ('profiles_profile',), ('reports_report',), ('sales_position',), ('sales_sale_positions',), ('sales_sale',), ('sales_csv',), ('django_session',)]\n",
      "[(1, 'Test Customer', 'no_picture.png'), (2, 'ABC', 'no_picture.png'), (3, 'New Customer', 'no_picture.png')]\n",
      "<class 'list'>\n",
      "(0, 'id', 'integer', 1, None, 1)\n",
      "(1, 'name', 'varchar(120)', 1, None, 0)\n",
      "(2, 'logo', 'varchar(100)', 1, None, 0)\n"
     ]
    }
   ],
   "source": [
    "# Customers\n",
    "\n",
    "#class Customer(models.Model):\n",
    "#    name = models.CharField(max_length=120)\n",
    "#    logo = models.ImageField(upload_to='customers', default='no_picture.png')\n",
    "\n",
    "#    def __str__(self):\n",
    "#        return str(self.name)\n",
    "\n",
    "import sqlite3\n",
    "conn = sqlite3.connect('db.sqlite3')\n",
    "print(conn)\n",
    "cur = conn.cursor()\n",
    "(cur)\n",
    "print(cur.execute(\"SELECT name FROM sqlite_master WHERE type = 'table'\"))\n",
    "print(cur.fetchall())\n",
    "cur.execute(\"SELECT * FROM customers_customer\")\n",
    "print(cur.fetchall())\n",
    "print(type(cur.fetchall()))\n",
    "\n",
    "cur.execute(\"PRAGMA table_info('customers_customer')\").fetchall()\n",
    "for row in cur.execute(\"PRAGMA table_info('customers_customer')\").fetchall():\n",
    "    print(row)"
   ]
  },
  {
   "cell_type": "code",
   "execution_count": 53,
   "id": "04a6d502-3f71-4bad-9f1e-8cb1d52ae0f8",
   "metadata": {},
   "outputs": [
    {
     "name": "stdout",
     "output_type": "stream",
     "text": [
      "[(1, 'Test Customer', 'no_picture.png')]\n",
      "(2, 'ABC', 'no_picture.png')\n",
      "No customer Record exists by that name\n",
      "[(1, 'Test Customer', 'no_picture.png'), (2, 'ABC', 'no_picture.png'), (3, 'New Customer', 'no_picture.png')]\n"
     ]
    }
   ],
   "source": [
    "\n",
    "# check if customer exists in table\n",
    "cust = 'Test Customer'\n",
    "\n",
    "cur.execute(\"SELECT * FROM customers_customer WHERE name = 'Test Customer'\")\n",
    "print(cur.fetchall())\n",
    "#update = 'DEF'\n",
    "\n",
    "t = ('ABC',)\n",
    "cur.execute('SELECT * FROM customers_customer WHERE name=?', t)\n",
    "fetch = cur.fetchone()\n",
    "if (fetch == None):\n",
    "    print (\"No customer Record exists by that name\")\n",
    "else:\n",
    "    print (fetch)\n",
    "\n",
    "t = ('A ',)\n",
    "cur.execute('SELECT * FROM customers_customer WHERE name=?', t)\n",
    "fetch = cur.fetchone()\n",
    "if (fetch == None):\n",
    "    print (\"No customer Record exists by that name\")\n",
    "else:\n",
    "    print (fetch)\n",
    "\n",
    "# DON'T use % or %s in SQL queries to prevent SQL injection attacks.  See Stackoverflow discussion below\n",
    "#https://stackoverflow.com/questions/902408/how-to-use-variables-in-sql-statement-in-python\n",
    "#cur.execute('INSERT INTO customers_customer(id,name,logo) VALUES(?,?,?)',('4','DEF','no_picture.png'))\n",
    "cur.execute(\"SELECT * FROM customers_customer\")\n",
    "print(cur.fetchall())\n",
    "\n",
    "#Function to insert a new customer record into the database\n",
    "def insert_customers(elem):\n",
    "    t = (elem,)\n",
    "    cur.execute('SELECT * FROM customers_customer WHERE name=?', t)\n",
    "    fetch = cur.fetchone()\n",
    "    if (fetch == None):\n",
    "        print (\"No customer Record exists by that name\")\n",
    "    else:\n",
    "        print (fetch)\n",
    "        cur.execute('INSERT INTO customers_customer(id,name,logo) VALUES (?,?,?)')\n",
    "     \n"
   ]
  },
  {
   "cell_type": "code",
   "execution_count": 54,
   "id": "ce9d133d-bde7-4f07-8339-eb07cc856cd0",
   "metadata": {},
   "outputs": [
    {
     "ename": "OperationalError",
     "evalue": "database is locked",
     "output_type": "error",
     "traceback": [
      "\u001b[0;31m---------------------------------------------------------------------------\u001b[0m",
      "\u001b[0;31mOperationalError\u001b[0m                          Traceback (most recent call last)",
      "Input \u001b[0;32mIn [54]\u001b[0m, in \u001b[0;36m<cell line: 7>\u001b[0;34m()\u001b[0m\n\u001b[1;32m      1\u001b[0m sql \u001b[38;5;241m=\u001b[39m \u001b[38;5;124m\"\u001b[39m\u001b[38;5;124mINSERT INTO customers_customer(id,name,logo) VALUES (?,?,?)\u001b[39m\u001b[38;5;124m\"\u001b[39m\n\u001b[1;32m      2\u001b[0m val \u001b[38;5;241m=\u001b[39m [(\u001b[38;5;124m'\u001b[39m\u001b[38;5;124m4\u001b[39m\u001b[38;5;124m'\u001b[39m,\u001b[38;5;124m'\u001b[39m\u001b[38;5;124mDEF\u001b[39m\u001b[38;5;124m'\u001b[39m,\u001b[38;5;124m'\u001b[39m\u001b[38;5;124mno_picture.png\u001b[39m\u001b[38;5;124m'\u001b[39m),\n\u001b[1;32m      3\u001b[0m \t(\u001b[38;5;124m'\u001b[39m\u001b[38;5;124m5\u001b[39m\u001b[38;5;124m'\u001b[39m,\u001b[38;5;124m'\u001b[39m\u001b[38;5;124mDEF\u001b[39m\u001b[38;5;124m'\u001b[39m,\u001b[38;5;124m'\u001b[39m\u001b[38;5;124mno_picture.png\u001b[39m\u001b[38;5;124m'\u001b[39m),\n\u001b[1;32m      4\u001b[0m \t(\u001b[38;5;124m'\u001b[39m\u001b[38;5;124m6\u001b[39m\u001b[38;5;124m'\u001b[39m,\u001b[38;5;124m'\u001b[39m\u001b[38;5;124mDEF\u001b[39m\u001b[38;5;124m'\u001b[39m,\u001b[38;5;124m'\u001b[39m\u001b[38;5;124mno_picture.png\u001b[39m\u001b[38;5;124m'\u001b[39m),\n\u001b[1;32m      5\u001b[0m \t(\u001b[38;5;124m'\u001b[39m\u001b[38;5;124m7\u001b[39m\u001b[38;5;124m'\u001b[39m,\u001b[38;5;124m'\u001b[39m\u001b[38;5;124mDEF\u001b[39m\u001b[38;5;124m'\u001b[39m,\u001b[38;5;124m'\u001b[39m\u001b[38;5;124mno_picture.png\u001b[39m\u001b[38;5;124m'\u001b[39m)]\n\u001b[0;32m----> 7\u001b[0m \u001b[43mcur\u001b[49m\u001b[38;5;241;43m.\u001b[39;49m\u001b[43mexecutemany\u001b[49m\u001b[43m(\u001b[49m\u001b[43msql\u001b[49m\u001b[43m,\u001b[49m\u001b[43m \u001b[49m\u001b[43mval\u001b[49m\u001b[43m)\u001b[49m\n\u001b[1;32m      8\u001b[0m \u001b[38;5;66;03m#conn.commit()\u001b[39;00m\n\u001b[1;32m     10\u001b[0m \u001b[38;5;28mprint\u001b[39m(cur\u001b[38;5;241m.\u001b[39mrowcount, \u001b[38;5;124m\"\u001b[39m\u001b[38;5;124mdetails inserted\u001b[39m\u001b[38;5;124m\"\u001b[39m)\n",
      "\u001b[0;31mOperationalError\u001b[0m: database is locked"
     ]
    }
   ],
   "source": [
    "sql = \"INSERT INTO customers_customer(id,name,logo) VALUES (?,?,?)\"\n",
    "val = [('4','DEF','no_picture.png'),\n",
    "\t('5','DEF','no_picture.png'),\n",
    "\t('6','DEF','no_picture.png'),\n",
    "\t('7','DEF','no_picture.png')]\n",
    "\n",
    "cur.executemany(sql, val)\n",
    "#conn.commit()\n",
    "\n",
    "print(cur.rowcount, \"details inserted\")\n",
    "\n",
    "\n",
    "\n"
   ]
  },
  {
   "cell_type": "code",
   "execution_count": null,
   "id": "7ed7a3d0-fc63-44dd-80a6-07386e96a97c",
   "metadata": {},
   "outputs": [],
   "source": [
    "cur.close()\n",
    "# disconnecting from server\n",
    "conn.close()"
   ]
  },
  {
   "cell_type": "code",
   "execution_count": 57,
   "id": "cbe9c565-1da4-4193-8db0-570c35fffe1e",
   "metadata": {},
   "outputs": [
    {
     "name": "stdout",
     "output_type": "stream",
     "text": [
      "[16, 3, 18, 18]\n"
     ]
    }
   ],
   "source": [
    "# Explicit function\n",
    "def digitSum(n):\n",
    "    dsum = 0\n",
    "    for ele in str(n):\n",
    "        dsum += int(ele)\n",
    "    return dsum\n",
    " \n",
    " \n",
    "# Initializing list\n",
    "List = [367, 111, 562, 945, 6726, 873]\n",
    " \n",
    "# Using the function on odd elements of the list\n",
    "# [f(x) for elem in List]\n",
    "\n",
    "newList = [digitSum(i) for i in List if i & 1]\n",
    " \n",
    "# Displaying new list\n",
    "print(newList)"
   ]
  },
  {
   "cell_type": "code",
   "execution_count": 58,
   "id": "560c3d07-69f3-431d-8d47-9e94d3bc5182",
   "metadata": {},
   "outputs": [
    {
     "ename": "ImproperlyConfigured",
     "evalue": "Requested setting INSTALLED_APPS, but settings are not configured. You must either define the environment variable DJANGO_SETTINGS_MODULE or call settings.configure() before accessing settings.",
     "output_type": "error",
     "traceback": [
      "\u001b[0;31m---------------------------------------------------------------------------\u001b[0m",
      "\u001b[0;31mImproperlyConfigured\u001b[0m                      Traceback (most recent call last)",
      "Input \u001b[0;32mIn [58]\u001b[0m, in \u001b[0;36m<cell line: 2>\u001b[0;34m()\u001b[0m\n\u001b[1;32m      1\u001b[0m \u001b[38;5;66;03m#using django ORM to add,delete, modify query objects in the database\u001b[39;00m\n\u001b[0;32m----> 2\u001b[0m \u001b[38;5;28;01mfrom\u001b[39;00m \u001b[38;5;21;01mcustomers\u001b[39;00m\u001b[38;5;21;01m.\u001b[39;00m\u001b[38;5;21;01mmodels\u001b[39;00m \u001b[38;5;28;01mimport\u001b[39;00m Customer\n",
      "File \u001b[0;32m~/Projects/django-data-reports-app/src/customers/models.py:6\u001b[0m, in \u001b[0;36m<module>\u001b[0;34m\u001b[0m\n\u001b[1;32m      1\u001b[0m \u001b[38;5;28;01mfrom\u001b[39;00m \u001b[38;5;21;01mdjango\u001b[39;00m\u001b[38;5;21;01m.\u001b[39;00m\u001b[38;5;21;01mdb\u001b[39;00m \u001b[38;5;28;01mimport\u001b[39;00m models\n\u001b[1;32m      3\u001b[0m \u001b[38;5;66;03m# Create your models here.\u001b[39;00m\n\u001b[0;32m----> 6\u001b[0m \u001b[38;5;28;01mclass\u001b[39;00m \u001b[38;5;21;01mCustomer\u001b[39;00m(models\u001b[38;5;241m.\u001b[39mModel):\n\u001b[1;32m      7\u001b[0m     name \u001b[38;5;241m=\u001b[39m models\u001b[38;5;241m.\u001b[39mCharField(max_length\u001b[38;5;241m=\u001b[39m\u001b[38;5;241m120\u001b[39m)\n\u001b[1;32m      8\u001b[0m     logo \u001b[38;5;241m=\u001b[39m models\u001b[38;5;241m.\u001b[39mImageField(upload_to\u001b[38;5;241m=\u001b[39m\u001b[38;5;124m'\u001b[39m\u001b[38;5;124mcustomers\u001b[39m\u001b[38;5;124m'\u001b[39m, default\u001b[38;5;241m=\u001b[39m\u001b[38;5;124m'\u001b[39m\u001b[38;5;124mno_picture.png\u001b[39m\u001b[38;5;124m'\u001b[39m)\n",
      "File \u001b[0;32m~/Projects/django-sales-reports-app/local/lib/python3.9/site-packages/django/db/models/base.py:127\u001b[0m, in \u001b[0;36mModelBase.__new__\u001b[0;34m(cls, name, bases, attrs, **kwargs)\u001b[0m\n\u001b[1;32m    124\u001b[0m app_label \u001b[38;5;241m=\u001b[39m \u001b[38;5;28;01mNone\u001b[39;00m\n\u001b[1;32m    126\u001b[0m \u001b[38;5;66;03m# Look for an application configuration to attach the model to.\u001b[39;00m\n\u001b[0;32m--> 127\u001b[0m app_config \u001b[38;5;241m=\u001b[39m \u001b[43mapps\u001b[49m\u001b[38;5;241;43m.\u001b[39;49m\u001b[43mget_containing_app_config\u001b[49m\u001b[43m(\u001b[49m\u001b[43mmodule\u001b[49m\u001b[43m)\u001b[49m\n\u001b[1;32m    129\u001b[0m \u001b[38;5;28;01mif\u001b[39;00m \u001b[38;5;28mgetattr\u001b[39m(meta, \u001b[38;5;124m\"\u001b[39m\u001b[38;5;124mapp_label\u001b[39m\u001b[38;5;124m\"\u001b[39m, \u001b[38;5;28;01mNone\u001b[39;00m) \u001b[38;5;129;01mis\u001b[39;00m \u001b[38;5;28;01mNone\u001b[39;00m:\n\u001b[1;32m    130\u001b[0m     \u001b[38;5;28;01mif\u001b[39;00m app_config \u001b[38;5;129;01mis\u001b[39;00m \u001b[38;5;28;01mNone\u001b[39;00m:\n",
      "File \u001b[0;32m~/Projects/django-sales-reports-app/local/lib/python3.9/site-packages/django/apps/registry.py:260\u001b[0m, in \u001b[0;36mApps.get_containing_app_config\u001b[0;34m(self, object_name)\u001b[0m\n\u001b[1;32m    251\u001b[0m \u001b[38;5;28;01mdef\u001b[39;00m \u001b[38;5;21mget_containing_app_config\u001b[39m(\u001b[38;5;28mself\u001b[39m, object_name):\n\u001b[1;32m    252\u001b[0m     \u001b[38;5;124;03m\"\"\"\u001b[39;00m\n\u001b[1;32m    253\u001b[0m \u001b[38;5;124;03m    Look for an app config containing a given object.\u001b[39;00m\n\u001b[1;32m    254\u001b[0m \n\u001b[0;32m   (...)\u001b[0m\n\u001b[1;32m    258\u001b[0m \u001b[38;5;124;03m    Return None if the object isn't in any registered app config.\u001b[39;00m\n\u001b[1;32m    259\u001b[0m \u001b[38;5;124;03m    \"\"\"\u001b[39;00m\n\u001b[0;32m--> 260\u001b[0m     \u001b[38;5;28;43mself\u001b[39;49m\u001b[38;5;241;43m.\u001b[39;49m\u001b[43mcheck_apps_ready\u001b[49m\u001b[43m(\u001b[49m\u001b[43m)\u001b[49m\n\u001b[1;32m    261\u001b[0m     candidates \u001b[38;5;241m=\u001b[39m []\n\u001b[1;32m    262\u001b[0m     \u001b[38;5;28;01mfor\u001b[39;00m app_config \u001b[38;5;129;01min\u001b[39;00m \u001b[38;5;28mself\u001b[39m\u001b[38;5;241m.\u001b[39mapp_configs\u001b[38;5;241m.\u001b[39mvalues():\n",
      "File \u001b[0;32m~/Projects/django-sales-reports-app/local/lib/python3.9/site-packages/django/apps/registry.py:137\u001b[0m, in \u001b[0;36mApps.check_apps_ready\u001b[0;34m(self)\u001b[0m\n\u001b[1;32m    132\u001b[0m \u001b[38;5;28;01mfrom\u001b[39;00m \u001b[38;5;21;01mdjango\u001b[39;00m\u001b[38;5;21;01m.\u001b[39;00m\u001b[38;5;21;01mconf\u001b[39;00m \u001b[38;5;28;01mimport\u001b[39;00m settings\n\u001b[1;32m    134\u001b[0m \u001b[38;5;66;03m# If \"not ready\" is due to unconfigured settings, accessing\u001b[39;00m\n\u001b[1;32m    135\u001b[0m \u001b[38;5;66;03m# INSTALLED_APPS raises a more helpful ImproperlyConfigured\u001b[39;00m\n\u001b[1;32m    136\u001b[0m \u001b[38;5;66;03m# exception.\u001b[39;00m\n\u001b[0;32m--> 137\u001b[0m \u001b[43msettings\u001b[49m\u001b[38;5;241;43m.\u001b[39;49m\u001b[43mINSTALLED_APPS\u001b[49m\n\u001b[1;32m    138\u001b[0m \u001b[38;5;28;01mraise\u001b[39;00m AppRegistryNotReady(\u001b[38;5;124m\"\u001b[39m\u001b[38;5;124mApps aren\u001b[39m\u001b[38;5;124m'\u001b[39m\u001b[38;5;124mt loaded yet.\u001b[39m\u001b[38;5;124m\"\u001b[39m)\n",
      "File \u001b[0;32m~/Projects/django-sales-reports-app/local/lib/python3.9/site-packages/django/conf/__init__.py:87\u001b[0m, in \u001b[0;36mLazySettings.__getattr__\u001b[0;34m(self, name)\u001b[0m\n\u001b[1;32m     85\u001b[0m \u001b[38;5;124;03m\"\"\"Return the value of a setting and cache it in self.__dict__.\"\"\"\u001b[39;00m\n\u001b[1;32m     86\u001b[0m \u001b[38;5;28;01mif\u001b[39;00m \u001b[38;5;28mself\u001b[39m\u001b[38;5;241m.\u001b[39m_wrapped \u001b[38;5;129;01mis\u001b[39;00m empty:\n\u001b[0;32m---> 87\u001b[0m     \u001b[38;5;28;43mself\u001b[39;49m\u001b[38;5;241;43m.\u001b[39;49m\u001b[43m_setup\u001b[49m\u001b[43m(\u001b[49m\u001b[43mname\u001b[49m\u001b[43m)\u001b[49m\n\u001b[1;32m     88\u001b[0m val \u001b[38;5;241m=\u001b[39m \u001b[38;5;28mgetattr\u001b[39m(\u001b[38;5;28mself\u001b[39m\u001b[38;5;241m.\u001b[39m_wrapped, name)\n\u001b[1;32m     90\u001b[0m \u001b[38;5;66;03m# Special case some settings which require further modification.\u001b[39;00m\n\u001b[1;32m     91\u001b[0m \u001b[38;5;66;03m# This is done here for performance reasons so the modified value is cached.\u001b[39;00m\n",
      "File \u001b[0;32m~/Projects/django-sales-reports-app/local/lib/python3.9/site-packages/django/conf/__init__.py:67\u001b[0m, in \u001b[0;36mLazySettings._setup\u001b[0;34m(self, name)\u001b[0m\n\u001b[1;32m     65\u001b[0m \u001b[38;5;28;01mif\u001b[39;00m \u001b[38;5;129;01mnot\u001b[39;00m settings_module:\n\u001b[1;32m     66\u001b[0m     desc \u001b[38;5;241m=\u001b[39m (\u001b[38;5;124m\"\u001b[39m\u001b[38;5;124msetting \u001b[39m\u001b[38;5;132;01m%s\u001b[39;00m\u001b[38;5;124m\"\u001b[39m \u001b[38;5;241m%\u001b[39m name) \u001b[38;5;28;01mif\u001b[39;00m name \u001b[38;5;28;01melse\u001b[39;00m \u001b[38;5;124m\"\u001b[39m\u001b[38;5;124msettings\u001b[39m\u001b[38;5;124m\"\u001b[39m\n\u001b[0;32m---> 67\u001b[0m     \u001b[38;5;28;01mraise\u001b[39;00m ImproperlyConfigured(\n\u001b[1;32m     68\u001b[0m         \u001b[38;5;124m\"\u001b[39m\u001b[38;5;124mRequested \u001b[39m\u001b[38;5;132;01m%s\u001b[39;00m\u001b[38;5;124m, but settings are not configured. \u001b[39m\u001b[38;5;124m\"\u001b[39m\n\u001b[1;32m     69\u001b[0m         \u001b[38;5;124m\"\u001b[39m\u001b[38;5;124mYou must either define the environment variable \u001b[39m\u001b[38;5;132;01m%s\u001b[39;00m\u001b[38;5;124m \u001b[39m\u001b[38;5;124m\"\u001b[39m\n\u001b[1;32m     70\u001b[0m         \u001b[38;5;124m\"\u001b[39m\u001b[38;5;124mor call settings.configure() before accessing settings.\u001b[39m\u001b[38;5;124m\"\u001b[39m\n\u001b[1;32m     71\u001b[0m         \u001b[38;5;241m%\u001b[39m (desc, ENVIRONMENT_VARIABLE)\n\u001b[1;32m     72\u001b[0m     )\n\u001b[1;32m     74\u001b[0m \u001b[38;5;28mself\u001b[39m\u001b[38;5;241m.\u001b[39m_wrapped \u001b[38;5;241m=\u001b[39m Settings(settings_module)\n",
      "\u001b[0;31mImproperlyConfigured\u001b[0m: Requested setting INSTALLED_APPS, but settings are not configured. You must either define the environment variable DJANGO_SETTINGS_MODULE or call settings.configure() before accessing settings."
     ]
    }
   ],
   "source": [
    "#using django ORM to add,delete, modify query objects in the database\n",
    "from customers.models import Customer\n",
    "\n"
   ]
  },
  {
   "cell_type": "code",
   "execution_count": null,
   "id": "9387e769-b5a8-4e28-ace5-91a3118c39bd",
   "metadata": {},
   "outputs": [],
   "source": []
  },
  {
   "cell_type": "code",
   "execution_count": null,
   "id": "8b2c5614-ae7d-43fe-84c8-173f1629ce35",
   "metadata": {},
   "outputs": [],
   "source": [
    "# Products"
   ]
  },
  {
   "cell_type": "code",
   "execution_count": null,
   "id": "62b68f6a-5c7b-431e-a877-9002eff3e2fd",
   "metadata": {},
   "outputs": [],
   "source": [
    "# Positions"
   ]
  },
  {
   "cell_type": "code",
   "execution_count": null,
   "id": "342d6240-43e9-454c-a23b-181ac11d5a56",
   "metadata": {},
   "outputs": [],
   "source": [
    "# Sales"
   ]
  }
 ],
 "metadata": {
  "kernelspec": {
   "display_name": "Python 3 (ipykernel)",
   "language": "python",
   "name": "python3"
  },
  "language_info": {
   "codemirror_mode": {
    "name": "ipython",
    "version": 3
   },
   "file_extension": ".py",
   "mimetype": "text/x-python",
   "name": "python",
   "nbconvert_exporter": "python",
   "pygments_lexer": "ipython3",
   "version": "3.9.6"
  }
 },
 "nbformat": 4,
 "nbformat_minor": 5
}
